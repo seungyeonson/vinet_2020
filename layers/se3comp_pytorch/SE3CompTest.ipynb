{
 "cells": [
  {
   "cell_type": "markdown",
   "metadata": {},
   "source": [
    "# Forward"
   ]
  },
  {
   "cell_type": "markdown",
   "metadata": {
    "ExecuteTime": {
     "end_time": "2018-06-23T06:33:40.224305Z",
     "start_time": "2018-06-23T06:33:40.080203Z"
    },
    "code_folding": [
     25
    ]
   },
   "source": [
    "## Generate se3 R6 from SE3 Matrix by Sophus Library\n",
    "\n",
    "Rotation matrix\n",
    "```\n",
    "SE3 Matrix\n",
    "[ -0.1746031, -0.0317460,  0.9841270;    1\n",
    "   0.3492065, -0.9365079,  0.0317460;    2\n",
    "   0.9206349,  0.3492065,  0.1746031 ]   3\n",
    "      0            0          0          1 \n",
    "```\n",
    "(SE3 Matrix ==> se3 R6)\n",
    "```python\n",
    "from sophus import *\n",
    "from sympy import *\n",
    "q = Quaternion(0.1259882, Matrix([0.6299408, 0.1259882, 0.7559289]))\n",
    "xi_SE3 = Se3(So3(q), Matrix([1, 2, 3]))\n",
    "xi_se3 = SE3.log()\n",
    "```\n",
    "xi se3 R6\n",
    "```\n",
    "se3 R6\n",
    "Matrix([[3.48075536975048], [2.34718513399708], [0.874839482491055], [1.83448188157597], [0.366896492801180], [2.20137808316218]])\n",
    "```\n",
    "Combine Tg pose with xi\n",
    "```\n",
    "Tg = 1, 2, 3, 0.6324555, 0.3162278, 0.6324555, 0.3162278\n",
    "T_combine = xi_SE3_M * Tg_SE3_M\n",
    "```\n",
    "T_combine\n",
    "```\n",
    "R^4x4\n",
    " [-0.615872887393401, 0.768254002808266, -0.174603012694796, 3.71428578273958], \n",
    " [-0.768253903444096, -0.536507791771389, 0.349206445794498, 0.571428888078200], \n",
    " [0.174603364513569, 0.349206351769077, 0.920634830550402, 5.14285714642664], \n",
    " [0, 0, 0, 1]])\n",
    " \n",
    " R7\n",
    " 3.71428578273958 0.5714288880782 5.14285714642664 0.4383   -0.0000   -0.1992   -0.8765\n",
    "```"
   ]
  },
  {
   "cell_type": "code",
   "execution_count": 1,
   "metadata": {
    "ExecuteTime": {
     "end_time": "2018-07-01T07:38:28.276023Z",
     "start_time": "2018-07-01T07:38:28.122800Z"
    }
   },
   "outputs": [
    {
     "name": "stdout",
     "output_type": "stream",
     "text": [
      "tensor([[[ 3.7143],\n",
      "         [ 0.5714],\n",
      "         [ 5.1429],\n",
      "         [ 0.4383],\n",
      "         [-0.0000],\n",
      "         [-0.1992],\n",
      "         [-0.8765]],\n",
      "\n",
      "        [[ 0.0000],\n",
      "         [ 0.0000],\n",
      "         [ 0.0000],\n",
      "         [ 1.0000],\n",
      "         [ 0.0000],\n",
      "         [ 0.0000],\n",
      "         [ 0.0000]]])\n"
     ]
    }
   ],
   "source": [
    "import torch \n",
    "\n",
    "import numpy as np\n",
    "from SE3Comp import *\n",
    "\n",
    "batchSize = 2\n",
    "Tg = torch.zeros(batchSize, 7, 1)\n",
    "xi_vec = torch.zeros(batchSize, 6, 1)\n",
    "\n",
    "Tg[0, 0] = 1\n",
    "Tg[0, 1] = 2\n",
    "Tg[0, 2] = 3\n",
    "Tg[0, 3] = 0.6324555\n",
    "Tg[0, 4] = 0.3162278\n",
    "Tg[0, 5] = 0.6324555\n",
    "Tg[0, 6] = 0.3162278\n",
    "\n",
    "# Tg[0, 0] = 0\n",
    "# Tg[0, 1] = 0\n",
    "# Tg[0, 2] = 0\n",
    "# Tg[0, 3] = 0\n",
    "# Tg[0, 4] = 0\n",
    "# Tg[0, 5] = 0\n",
    "# Tg[0, 6] = 0\n",
    "xi_vec[0,0] = 3.48075536975048\n",
    "xi_vec[0,1] = 2.34718513399708\n",
    "xi_vec[0,2] = 0.874839482491055\n",
    "xi_vec[0,3] = 1.83448188157597\n",
    "xi_vec[0,4] = 0.366896492801180\n",
    "xi_vec[0,5] = 2.20137808316218\n",
    "\n",
    "# xi_vec[0,0] = 0\n",
    "# xi_vec[0,1] = 0\n",
    "# xi_vec[0,2] = 0\n",
    "# xi_vec[0,3] = 0\n",
    "# xi_vec[0,4] = 0\n",
    "# xi_vec[0,5] = 0\n",
    "\n",
    "model = SE3Comp()\n",
    "\n",
    "\n",
    "ans = model.forward(Tg, xi_vec)\n",
    "print(ans)\n",
    "#3.71428578273958 0.5714288880782 5.14285714642664 0.4383   -0.0000   -0.1992   -0.8765"
   ]
  },
  {
   "cell_type": "markdown",
   "metadata": {},
   "source": [
    "# Backward"
   ]
  },
  {
   "cell_type": "code",
   "execution_count": 1,
   "metadata": {
    "ExecuteTime": {
     "end_time": "2018-07-01T06:38:42.652852Z",
     "start_time": "2018-07-01T06:38:42.481634Z"
    }
   },
   "outputs": [
    {
     "ename": "NameError",
     "evalue": "name 'nn' is not defined",
     "output_type": "error",
     "traceback": [
      "\u001b[0;31m---------------------------------------------------------------------------\u001b[0m",
      "\u001b[0;31mNameError\u001b[0m                                 Traceback (most recent call last)",
      "\u001b[0;32m<ipython-input-1-31f73f452504>\u001b[0m in \u001b[0;36m<module>\u001b[0;34m()\u001b[0m\n\u001b[1;32m      1\u001b[0m \u001b[0;32mimport\u001b[0m \u001b[0mtorch\u001b[0m\u001b[0;34m.\u001b[0m\u001b[0moptim\u001b[0m \u001b[0;32mas\u001b[0m \u001b[0moptim\u001b[0m\u001b[0;34m\u001b[0m\u001b[0m\n\u001b[1;32m      2\u001b[0m \u001b[0;34m\u001b[0m\u001b[0m\n\u001b[0;32m----> 3\u001b[0;31m \u001b[0;32mclass\u001b[0m \u001b[0mtestNet\u001b[0m\u001b[0;34m(\u001b[0m\u001b[0mnn\u001b[0m\u001b[0;34m.\u001b[0m\u001b[0mModule\u001b[0m\u001b[0;34m)\u001b[0m\u001b[0;34m:\u001b[0m\u001b[0;34m\u001b[0m\u001b[0m\n\u001b[0m\u001b[1;32m      4\u001b[0m     \u001b[0;32mdef\u001b[0m \u001b[0m__init__\u001b[0m\u001b[0;34m(\u001b[0m\u001b[0mself\u001b[0m\u001b[0;34m)\u001b[0m\u001b[0;34m:\u001b[0m\u001b[0;34m\u001b[0m\u001b[0m\n\u001b[1;32m      5\u001b[0m         \u001b[0msuper\u001b[0m\u001b[0;34m(\u001b[0m\u001b[0mtestNet\u001b[0m\u001b[0;34m,\u001b[0m \u001b[0mself\u001b[0m\u001b[0;34m)\u001b[0m\u001b[0;34m.\u001b[0m\u001b[0m__init__\u001b[0m\u001b[0;34m(\u001b[0m\u001b[0;34m)\u001b[0m\u001b[0;34m\u001b[0m\u001b[0m\n",
      "\u001b[0;31mNameError\u001b[0m: name 'nn' is not defined"
     ]
    }
   ],
   "source": [
    "import torch.optim as optim\n",
    "\n",
    "class testNet(nn.Module):\n",
    "    def __init__(self):\n",
    "        super(testNet, self).__init__()\n",
    "        self.se3comp = SE3Comp()\n",
    "        self.linearTg = nn.Linear(7, 7)\n",
    "        self.linearXI = nn.Linear(6, 6)\n",
    "        self.linear3 = nn.Linear(7, 7)\n",
    "    def forward(self, Tg, xi_vec):\n",
    "        batchSize = 2\n",
    "        \n",
    "        outTg = self.linearTg(Tg.view(batchSize, 1, -1))\n",
    "        outXI = self.linearXI(xi_vec.view(batchSize,1, -1))\n",
    "        outC = self.se3comp(outTg.view(batchSize,7,-1) , outXI.view(batchSize, 6, -1))\n",
    "        outC_squeezed = torch.squeeze(outC)\n",
    "        \n",
    "        \n",
    "        outL = self.linear3(outC_squeezed.view(batchSize, 1, -1))\n",
    "        \n",
    "        return outL.view(batchSize, 7, -1)\n",
    "        \n",
    "model = testNet()\n",
    "\n",
    "optimizer = optim.SGD(filter(lambda p: p.requires_grad, model.parameters()), lr=1e-4)\n",
    "criterion  = nn.MSELoss()\n",
    "\n",
    "print('Before optimization\\n')\n",
    "for param in model.parameters():\n",
    "    print(param.data)\n",
    "print('==============================\\n')    \n",
    "\n",
    "Tans = torch.zeros(batchSize, 7, 1)\n",
    "Tg[0, 0] = 1\n",
    "Tg[0, 1] = 2\n",
    "Tg[0, 2] = 0\n",
    "Tg[0, 3] = 0\n",
    "Tg[0, 4] = 0.3162278\n",
    "Tg[0, 5] = 0.6324555\n",
    "Tg[0, 6] = 0.3162278\n",
    "\n",
    "EPOCH = 50\n",
    "for k in range(EPOCH):\n",
    "    optimizer.zero_grad()\n",
    "    output = model(Tg, xi_vec)\n",
    "    #print('output size: ', output.size())\n",
    "\n",
    "    loss = criterion(output, Tans)\n",
    "    print(loss)\n",
    "    loss.register_hook(print)\n",
    "    loss.backward\n",
    "    optimizer.step()\n",
    "\n",
    "print('After optimization\\n')\n",
    "for param in model.parameters():\n",
    "    print(param.data)"
   ]
  },
  {
   "cell_type": "code",
   "execution_count": 36,
   "metadata": {
    "ExecuteTime": {
     "end_time": "2018-06-27T10:56:01.644311Z",
     "start_time": "2018-06-27T10:56:01.636492Z"
    }
   },
   "outputs": [
    {
     "name": "stdout",
     "output_type": "stream",
     "text": [
      "tensor([[[ 1.,  0.,  0.],\n",
      "         [ 0.,  1.,  0.],\n",
      "         [ 0.,  0.,  1.]],\n",
      "\n",
      "        [[ 1.,  0.,  0.],\n",
      "         [ 0.,  1.,  0.],\n",
      "         [ 0.,  0.,  1.]]])\n"
     ]
    }
   ],
   "source": [
    "import torch \n",
    "\n",
    "import numpy as np\n",
    "from SE3Comp import *\n",
    "\n",
    "batchSize = 2\n",
    "q = torch.zeros(batchSize, 4, 1)\n",
    "q[:,0] = 0\n",
    "q[:,1] = 0\n",
    "q[:,2] = 0\n",
    "q[:,3] = 0\n",
    "\n",
    "\n",
    "def q_to_Matrix(q):\n",
    "    qw = q[:, 0]\n",
    "    qx = q[:, 1]\n",
    "    qy = q[:, 2]\n",
    "    qz = q[:, 3]\n",
    "    M = torch.zeros(q.size()[0], 3, 3)\n",
    "\n",
    "    M[:, 0, 0] = torch.squeeze( 1 - 2*torch.mul(qy,qy) - 2*torch.mul(qz,qz) )\n",
    "    M[:, 1, 0] = torch.squeeze( 2*torch.mul(qx,qy) + 2*torch.mul(qz,qw) )\n",
    "    M[:, 2, 0] = torch.squeeze( 2*torch.mul(qx,qz) - 2*torch.mul(qy,qw) )\n",
    "\n",
    "    M[:, 0, 1] = torch.squeeze( 2*torch.mul(qx,qy) - 2*torch.mul(qz,qw) )\n",
    "    M[:, 1, 1] = torch.squeeze( 1 - 2*torch.mul(qx,qx) - 2*torch.mul(qz,qz) )\n",
    "    M[:, 2, 1] = torch.squeeze( 2*torch.mul(qy,qz) + 2*torch.mul(qx,qw) )\n",
    "\n",
    "    M[:, 0, 2] = torch.squeeze( 2*torch.mul(qx,qz) + 2*torch.mul(qy,qw) )\n",
    "    M[:, 1, 2] = torch.squeeze( 2*torch.mul(qy,qz) - 2*torch.mul(qx,qw) )\n",
    "    M[:, 2, 2] = torch.squeeze( 1 - 2*torch.mul(qx,qx) - 2*torch.mul(qy,qy) )\n",
    "\n",
    "    return M\n",
    "\n",
    "ans = q_to_Matrix(q)\n",
    "print(ans)"
   ]
  },
  {
   "cell_type": "code",
   "execution_count": 93,
   "metadata": {
    "ExecuteTime": {
     "end_time": "2018-06-27T13:31:59.069539Z",
     "start_time": "2018-06-27T13:31:59.062295Z"
    }
   },
   "outputs": [
    {
     "name": "stdout",
     "output_type": "stream",
     "text": [
      "by formula\n",
      "tensor([0.499583472197418, 0.499995833347366, 0.499999958325503, 0.499999996961265, 0.500000041370185, 0.500044450291171, 0.499600361081320,\n",
      "        0.000000000000000, 0.000000000000000, 0.000000000000000], dtype=torch.float64)\n",
      "by Taylor\n",
      "tensor([0.499583472197423, 0.499995833347222, 0.499999958333335, 0.499999999583333, 0.499999999995833, 0.499999999999958, 0.500000000000000,\n",
      "        0.500000000000000, 0.500000000000000, 0.500000000000000], dtype=torch.float64)\n"
     ]
    }
   ],
   "source": [
    "import numpy as np\n",
    "np.set_printoptions(precision=15)\n",
    "torch.set_printoptions(precision=15)\n",
    "theta = torch.from_numpy(np.array([1e-1, 1e-2, 1e-3, 1e-4, 1e-5, 1e-6, 1e-7, 1e-8, 1e-9, 1e-10]))\n",
    "\n",
    "co = (1.0 - torch.cos(theta)) / (theta*theta)\n",
    "print('by formula')\n",
    "print(co)\n",
    "\n",
    "co_l = torch.full((theta.shape[0],), 1.0 / 2.0, dtype=torch.float64)\n",
    "co_l += torch.pow(theta, (4*1)) / 720.0# 6!\n",
    "co_l += theta**(4*2) / 3628800.0# 10!\n",
    "co_l -= theta**(2) / 24.0\n",
    "co_l -= theta**(2 + 4) / 40320.0\n",
    "\n",
    "print('by Taylor')\n",
    "print(co_l)\n",
    "\n",
    "\n",
    "\n"
   ]
  },
  {
   "cell_type": "code",
   "execution_count": 96,
   "metadata": {
    "ExecuteTime": {
     "end_time": "2018-06-27T13:40:57.516584Z",
     "start_time": "2018-06-27T13:40:57.510576Z"
    }
   },
   "outputs": [
    {
     "name": "stdout",
     "output_type": "stream",
     "text": [
      "tensor([0.166583353171851, 0.166665833335744, 0.166666658339004, 0.166666661483190, 0.166667284899440, 0.166653732372284, 0.172053567411030,\n",
      "        0.000000000000000, 0.000000000000000, 0.000000000000000], dtype=torch.float64)\n",
      "tensor([0.166583353171848, 0.166665833335317, 0.166666658333334, 0.166666666583333, 0.166666666665833, 0.166666666666658, 0.166666666666667,\n",
      "        0.166666666666667, 0.166666666666667, 0.166666666666667], dtype=torch.float64)\n"
     ]
    }
   ],
   "source": [
    "si = (theta - torch.sin(theta)) / (theta**3)\n",
    "print(si)\n",
    "\n",
    "si_l = torch.full((theta.shape[0],), 1.0 / 6.0, dtype=torch.float64)\n",
    "si_l += theta**(4*1) / 5040.0\n",
    "si_l += theta**(4*2) / 39916800.0\n",
    "si_l -= theta**(2) / 120.0\n",
    "si_l -= theta**(2 + 4) / 362880.0\n",
    "print(si_l)"
   ]
  },
  {
   "cell_type": "code",
   "execution_count": 67,
   "metadata": {
    "ExecuteTime": {
     "end_time": "2018-06-27T12:57:27.515966Z",
     "start_time": "2018-06-27T12:57:27.511662Z"
    }
   },
   "outputs": [],
   "source": [
    "co_l_pos = torch.full((theta.shape[0],), 1.0 / 2.0)"
   ]
  },
  {
   "cell_type": "code",
   "execution_count": 75,
   "metadata": {
    "ExecuteTime": {
     "end_time": "2018-06-27T13:06:15.347135Z",
     "start_time": "2018-06-27T13:06:15.342369Z"
    }
   },
   "outputs": [
    {
     "data": {
      "text/plain": [
       "362880"
      ]
     },
     "execution_count": 75,
     "metadata": {},
     "output_type": "execute_result"
    }
   ],
   "source": [
    "np.math.factorial(9) "
   ]
  },
  {
   "cell_type": "code",
   "execution_count": 81,
   "metadata": {
    "ExecuteTime": {
     "end_time": "2018-06-27T13:10:29.627207Z",
     "start_time": "2018-06-27T13:10:29.621647Z"
    }
   },
   "outputs": [
    {
     "name": "stdout",
     "output_type": "stream",
     "text": [
      "tensor([ 0.9983,  1.0000,  1.0000,  1.0000,  1.0000,  1.0000,  1.0000,\n",
      "         1.0000,  1.0000,  1.0000], dtype=torch.float64)\n"
     ]
    }
   ],
   "source": [
    "theta = torch.from_numpy(np.array([1e-1, 1e-2, 1e-3, 1e-4, 1e-5, 1e-6, 1e-7, 1e-8, 1e-9, 1e-10]))\n",
    "one = torch.sin(theta) / theta\n",
    "print(one)"
   ]
  },
  {
   "cell_type": "code",
   "execution_count": 99,
   "metadata": {
    "ExecuteTime": {
     "end_time": "2018-06-30T16:49:49.171011Z",
     "start_time": "2018-06-30T16:49:49.165930Z"
    }
   },
   "outputs": [
    {
     "data": {
      "text/plain": [
       "'0.4.0'"
      ]
     },
     "execution_count": 99,
     "metadata": {},
     "output_type": "execute_result"
    }
   ],
   "source": [
    "torch.__version__"
   ]
  },
  {
   "cell_type": "code",
   "execution_count": 101,
   "metadata": {
    "ExecuteTime": {
     "end_time": "2018-06-30T16:51:25.465942Z",
     "start_time": "2018-06-30T16:51:25.463494Z"
    }
   },
   "outputs": [
    {
     "data": {
      "text/plain": [
       "'3.5.2 (default, Nov 23 2017, 16:37:01) \\n[GCC 5.4.0 20160609]'"
      ]
     },
     "execution_count": 101,
     "metadata": {},
     "output_type": "execute_result"
    }
   ],
   "source": [
    "import sys\n",
    "sys.version"
   ]
  },
  {
   "cell_type": "code",
   "execution_count": 16,
   "metadata": {
    "ExecuteTime": {
     "end_time": "2018-07-01T07:04:32.587022Z",
     "start_time": "2018-07-01T07:04:32.581438Z"
    }
   },
   "outputs": [
    {
     "name": "stdout",
     "output_type": "stream",
     "text": [
      "torch.Size([2])\n",
      "torch.Size([2, 2])\n",
      "tensor([[ 0.5000,  3.0000],\n",
      "        [ 2.4000,  9.9000]], dtype=torch.float64)\n"
     ]
    }
   ],
   "source": [
    "a = torch.from_numpy(np.array([2, 3], dtype=float))\n",
    "print(a.size())\n",
    "b = torch.from_numpy(np.array([[0.25, 1.0], [1.2, 3.3]], dtype=float))\n",
    "print(b.size())\n",
    "# torch.reciprocal(a)\n",
    "b = torch.mul(a,b)\n",
    "print(b)"
   ]
  },
  {
   "cell_type": "code",
   "execution_count": 17,
   "metadata": {
    "ExecuteTime": {
     "end_time": "2018-07-01T07:05:34.675434Z",
     "start_time": "2018-07-01T07:05:34.669683Z"
    }
   },
   "outputs": [
    {
     "name": "stdout",
     "output_type": "stream",
     "text": [
      "torch.Size([2, 1])\n",
      "torch.Size([2, 2])\n",
      "tensor([[ 0.5000,  2.0000],\n",
      "        [ 3.6000,  9.9000]], dtype=torch.float64)\n"
     ]
    }
   ],
   "source": [
    "a = torch.from_numpy(np.array([[2], [3]], dtype=float))\n",
    "print(a.size())\n",
    "b = torch.from_numpy(np.array([[0.25, 1.0], [1.2, 3.3]], dtype=float))\n",
    "print(b.size())\n",
    "# torch.reciprocal(a)\n",
    "b = torch.mul(a,b)\n",
    "print(b)"
   ]
  },
  {
   "cell_type": "code",
   "execution_count": 58,
   "metadata": {
    "ExecuteTime": {
     "end_time": "2018-07-01T07:31:06.587505Z",
     "start_time": "2018-07-01T07:31:06.576529Z"
    }
   },
   "outputs": [
    {
     "name": "stdout",
     "output_type": "stream",
     "text": [
      "torch.Size([2, 1])\n",
      "tensor([[ 2.],\n",
      "        [ 3.]], dtype=torch.float64)\n",
      "torch.Size([2, 3, 3])\n",
      "torch.Size([2, 9])\n",
      "tensor([[ 1.,  0.,  0.,  0.,  0.,  0.,  0.,  0.,  0.],\n",
      "        [ 3.,  0.,  0.,  0.,  0.,  0.,  0.,  0.,  0.]], dtype=torch.float64)\n",
      "tensor([[ 2.,  0.,  0.,  0.,  0.,  0.,  0.,  0.,  0.],\n",
      "        [ 9.,  0.,  0.,  0.,  0.,  0.,  0.,  0.,  0.]], dtype=torch.float64)\n",
      "tensor([[[ 2.,  0.,  0.],\n",
      "         [ 0.,  0.,  0.],\n",
      "         [ 0.,  0.,  0.]],\n",
      "\n",
      "        [[ 9.,  0.,  0.],\n",
      "         [ 0.,  0.,  0.],\n",
      "         [ 0.,  0.,  0.]]], dtype=torch.float64)\n"
     ]
    }
   ],
   "source": [
    "# a = torch.from_numpy(np.array([2, 3], dtype=float))\n",
    "# print(a.size())\n",
    "# print(a)\n",
    "# a2 = torch.unsqueeze(a, dim=1)\n",
    "# print(a2.size())\n",
    "# print(a2)\n",
    "\n",
    "scalar = torch.from_numpy(np.array([2, 3], dtype=float))\n",
    "scalar = torch.unsqueeze(scalar, dim=1)\n",
    "print(scalar.size())\n",
    "print(scalar)\n",
    "m = torch.zeros((2,3,3), dtype=torch.float64)\n",
    "m[0,0,0] = 1\n",
    "m[1,0,0] = 3\n",
    "print(m.shape)\n",
    "#print(m)\n",
    "\n",
    "m_view = m.view(scalar.size()[0], -1)\n",
    "print(m_view.size())\n",
    "print(m_view)\n",
    "\n",
    "out = m_view * scalar\n",
    "print(out)\n",
    "\n",
    "out_view = out.view(scalar.size()[0], m.size()[1], -1)\n",
    "print(out_view)\n",
    "# b = torch.from_numpy(, dtype=float))\n",
    "# print(b.size())\n",
    "# c = torch.bmm(a2,b)"
   ]
  },
  {
   "cell_type": "code",
   "execution_count": null,
   "metadata": {},
   "outputs": [],
   "source": []
  }
 ],
 "metadata": {
  "kernelspec": {
   "display_name": "Python 3",
   "language": "python",
   "name": "python3"
  },
  "language_info": {
   "codemirror_mode": {
    "name": "ipython",
    "version": 3
   },
   "file_extension": ".py",
   "mimetype": "text/x-python",
   "name": "python",
   "nbconvert_exporter": "python",
   "pygments_lexer": "ipython3",
   "version": "3.5.2"
  },
  "varInspector": {
   "cols": {
    "lenName": 16,
    "lenType": 16,
    "lenVar": 40
   },
   "kernels_config": {
    "python": {
     "delete_cmd_postfix": "",
     "delete_cmd_prefix": "del ",
     "library": "var_list.py",
     "varRefreshCmd": "print(var_dic_list())"
    },
    "r": {
     "delete_cmd_postfix": ") ",
     "delete_cmd_prefix": "rm(",
     "library": "var_list.r",
     "varRefreshCmd": "cat(var_dic_list()) "
    }
   },
   "types_to_exclude": [
    "module",
    "function",
    "builtin_function_or_method",
    "instance",
    "_Feature"
   ],
   "window_display": false
  }
 },
 "nbformat": 4,
 "nbformat_minor": 2
}
